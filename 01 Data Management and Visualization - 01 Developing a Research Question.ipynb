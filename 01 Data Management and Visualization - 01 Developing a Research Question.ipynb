{
 "cells": [
  {
   "cell_type": "markdown",
   "metadata": {},
   "source": [
    "# Data Management and Visualization\n",
    "### Week 1: Developing a Research Question\n",
    "\n",
    "I have lived in several different countries while working in international development. I am also very interested in technology and how it can affect our lives. Therefore, I began to explore the GapMinder dataset ([gapminder.csv](https://d396qusza40orc.cloudfront.net/phoenixassets/data-management-visualization/gapminder.csv)) as it was created to investigate development goals. In particular, I want to explore how internet penetration can affect the quality of professional life in a country. \n",
    "\n",
    "An initial relationship I want to look at is how a country's polityscore, a measure of a country's democratic and free nature, is affected by its internet use rate. But I think secondary questions of interest would be how the polity score is correlated with the overall employment rate and also the female employment rate, as a proxy for progressive views in the workplace. Additionally, the income per person could be an interesting aspect to this exploration.\n",
    "\n",
    "A search of Google Scholar for the phrase “polity score and internet penetration” reveals more than 19,000 links. The articles all seem to agree that greater access to the internet is a boost to democratic institutions. For instance, a report by the [International Communication Gazette](http://journals.sagepub.com/doi/abs/10.1177/1748048508100909) presents their own research findings that increased internet diffusion is a meaningful predictor of more democratic regimes. The [Bulletin of Science, Technology & Society](http://journals.sagepub.com/doi/abs/10.1177/0270467609336304) finds that while internet usage from 1992 until 2000 was not a powerful predictor of democratic tendencies in a country, internet usage from 2001 and 2002 was very strongly correlated. Lastly, The [Journal of Communication](http://onlinelibrary.wiley.com/doi/10.1111/j.1460-2466.2012.01627.x/full), found it was not internet penetration in a country which could predict the polity score, but specifically internet use.\n",
    "\n",
    "Based on this research, my hypothesis is that internet usage and polity score will be strongly positively correlated. I also suspect that high high employment and female employment rates, as well as a high income per person, will be linked to a country's polity score."
   ]
  }
 ],
 "metadata": {
  "anaconda-cloud": {},
  "kernelspec": {
   "display_name": "Python [default]",
   "language": "python",
   "name": "python3"
  },
  "language_info": {
   "codemirror_mode": {
    "name": "ipython",
    "version": 3
   },
   "file_extension": ".py",
   "mimetype": "text/x-python",
   "name": "python",
   "nbconvert_exporter": "python",
   "pygments_lexer": "ipython3",
   "version": "3.5.2"
  }
 },
 "nbformat": 4,
 "nbformat_minor": 1
}
