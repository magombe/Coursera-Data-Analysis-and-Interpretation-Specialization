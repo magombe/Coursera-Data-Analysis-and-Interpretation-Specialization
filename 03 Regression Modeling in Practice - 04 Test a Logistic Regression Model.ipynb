{
 "cells": [
  {
   "cell_type": "markdown",
   "metadata": {},
   "source": [
    "# Regression Modeling in Practice\n",
    "### Week 4: Test a Logistic Regression Model\n",
    "\n",
    "Although my data set (GapMinder) does not contain any binary data, I wanted to create an example of a logistic regression model. Therefore, I divided internetuserate into two categories with 0 being a “high” internet use rate (defined as a rate above the median rate) and 1 being a “low” internet use rate, and then compared it with income per person.\n",
    "\n",
    "Load the data and set variables to numeric"
   ]
  },
  {
   "cell_type": "code",
   "execution_count": 27,
   "metadata": {
    "collapsed": true
   },
   "outputs": [],
   "source": [
    "'''\n",
    "Code for Peer-graded Assignments: Test a Logistic Regression Model\n",
    "Course: Data Management and Visualization\n",
    "Specialization: Data Analysis and Interpretation\n",
    "'''\n",
    " \n",
    "import pandas as pd\n",
    "import numpy as np\n",
    "import statsmodels.formula.api as smf\n",
    "import scipy.stats\n",
    "\n",
    "data = pd.read_csv('c:/users/greg/desktop/gapminder.csv', low_memory=False)\n",
    " \n",
    "data['internetuserate'] = pd.to_numeric(data['internetuserate'], errors='coerce')\n",
    "data['incomeperperson'] = pd.to_numeric(data['incomeperperson'], errors='coerce')\n",
    "data['employrate'] = pd.to_numeric(data['employrate'], errors='coerce')"
   ]
  },
  {
   "cell_type": "markdown",
   "metadata": {},
   "source": [
    "Convert response variable to binary"
   ]
  },
  {
   "cell_type": "code",
   "execution_count": 28,
   "metadata": {
    "collapsed": true
   },
   "outputs": [],
   "source": [
    "binarydata = data.copy()\n",
    "\n",
    "def internetgrp (row):\n",
    "    if row['internetuserate'] < data['internetuserate'].median():\n",
    "        return 0\n",
    "    else:\n",
    "        return 1\n",
    "\n",
    "binarydata['internetuserate'] = binarydata.apply (lambda row: internetgrp (row),axis=1)"
   ]
  },
  {
   "cell_type": "markdown",
   "metadata": {},
   "source": [
    "Perform logistic regression with income per person"
   ]
  },
  {
   "cell_type": "code",
   "execution_count": 29,
   "metadata": {
    "collapsed": false
   },
   "outputs": [
    {
     "name": "stdout",
     "output_type": "stream",
     "text": [
      "Optimization terminated successfully.\n",
      "         Current function value: 0.357431\n",
      "         Iterations 9\n"
     ]
    },
    {
     "data": {
      "text/html": [
       "<table class=\"simpletable\">\n",
       "<caption>Logit Regression Results</caption>\n",
       "<tr>\n",
       "  <th>Dep. Variable:</th>  <td>internetuserate</td> <th>  No. Observations:  </th>  <td>   190</td>  \n",
       "</tr>\n",
       "<tr>\n",
       "  <th>Model:</th>               <td>Logit</td>      <th>  Df Residuals:      </th>  <td>   188</td>  \n",
       "</tr>\n",
       "<tr>\n",
       "  <th>Method:</th>               <td>MLE</td>       <th>  Df Model:          </th>  <td>     1</td>  \n",
       "</tr>\n",
       "<tr>\n",
       "  <th>Date:</th>          <td>Thu, 12 Jan 2017</td> <th>  Pseudo R-squ.:     </th>  <td>0.4843</td>  \n",
       "</tr>\n",
       "<tr>\n",
       "  <th>Time:</th>              <td>16:47:59</td>     <th>  Log-Likelihood:    </th> <td> -67.912</td> \n",
       "</tr>\n",
       "<tr>\n",
       "  <th>converged:</th>           <td>True</td>       <th>  LL-Null:           </th> <td> -131.69</td> \n",
       "</tr>\n",
       "<tr>\n",
       "  <th> </th>                      <td> </td>        <th>  LLR p-value:       </th> <td>1.407e-29</td>\n",
       "</tr>\n",
       "</table>\n",
       "<table class=\"simpletable\">\n",
       "<tr>\n",
       "         <td></td>            <th>coef</th>     <th>std err</th>      <th>z</th>      <th>P>|z|</th> <th>[95.0% Conf. Int.]</th> \n",
       "</tr>\n",
       "<tr>\n",
       "  <th>Intercept</th>       <td>   -2.2530</td> <td>    0.345</td> <td>   -6.525</td> <td> 0.000</td> <td>   -2.930    -1.576</td>\n",
       "</tr>\n",
       "<tr>\n",
       "  <th>incomeperperson</th> <td>    0.0006</td> <td>    0.000</td> <td>    5.817</td> <td> 0.000</td> <td>    0.000     0.001</td>\n",
       "</tr>\n",
       "</table>"
      ],
      "text/plain": [
       "<class 'statsmodels.iolib.summary.Summary'>\n",
       "\"\"\"\n",
       "                           Logit Regression Results                           \n",
       "==============================================================================\n",
       "Dep. Variable:        internetuserate   No. Observations:                  190\n",
       "Model:                          Logit   Df Residuals:                      188\n",
       "Method:                           MLE   Df Model:                            1\n",
       "Date:                Thu, 12 Jan 2017   Pseudo R-squ.:                  0.4843\n",
       "Time:                        16:47:59   Log-Likelihood:                -67.912\n",
       "converged:                       True   LL-Null:                       -131.69\n",
       "                                        LLR p-value:                 1.407e-29\n",
       "===================================================================================\n",
       "                      coef    std err          z      P>|z|      [95.0% Conf. Int.]\n",
       "-----------------------------------------------------------------------------------\n",
       "Intercept          -2.2530      0.345     -6.525      0.000        -2.930    -1.576\n",
       "incomeperperson     0.0006      0.000      5.817      0.000         0.000     0.001\n",
       "===================================================================================\n",
       "\n",
       "Possibly complete quasi-separation: A fraction 0.17 of observations can be\n",
       "perfectly predicted. This might indicate that there is complete\n",
       "quasi-separation. In this case some parameters will not be identified.\n",
       "\"\"\""
      ]
     },
     "execution_count": 29,
     "metadata": {},
     "output_type": "execute_result"
    }
   ],
   "source": [
    "lreg1 = smf.logit(formula = 'internetuserate ~ incomeperperson', data = binarydata).fit()\n",
    "lreg1.summary()"
   ]
  },
  {
   "cell_type": "markdown",
   "metadata": {},
   "source": [
    "Calculate odds ratios"
   ]
  },
  {
   "cell_type": "code",
   "execution_count": 30,
   "metadata": {
    "collapsed": false
   },
   "outputs": [
    {
     "data": {
      "text/plain": [
       "Intercept          0.105085\n",
       "incomeperperson    1.000608\n",
       "dtype: float64"
      ]
     },
     "execution_count": 30,
     "metadata": {},
     "output_type": "execute_result"
    }
   ],
   "source": [
    "np.exp(lreg1.params)"
   ]
  },
  {
   "cell_type": "markdown",
   "metadata": {},
   "source": [
    "Calculate odd ratios with 95% confidence intervals"
   ]
  },
  {
   "cell_type": "code",
   "execution_count": 31,
   "metadata": {
    "collapsed": false
   },
   "outputs": [
    {
     "data": {
      "text/html": [
       "<div>\n",
       "<table border=\"1\" class=\"dataframe\">\n",
       "  <thead>\n",
       "    <tr style=\"text-align: right;\">\n",
       "      <th></th>\n",
       "      <th>Lower CI</th>\n",
       "      <th>Upper CI</th>\n",
       "      <th>OR</th>\n",
       "    </tr>\n",
       "  </thead>\n",
       "  <tbody>\n",
       "    <tr>\n",
       "      <th>Intercept</th>\n",
       "      <td>0.053414</td>\n",
       "      <td>0.206742</td>\n",
       "      <td>0.105085</td>\n",
       "    </tr>\n",
       "    <tr>\n",
       "      <th>incomeperperson</th>\n",
       "      <td>1.000403</td>\n",
       "      <td>1.000813</td>\n",
       "      <td>1.000608</td>\n",
       "    </tr>\n",
       "  </tbody>\n",
       "</table>\n",
       "</div>"
      ],
      "text/plain": [
       "                 Lower CI  Upper CI        OR\n",
       "Intercept        0.053414  0.206742  0.105085\n",
       "incomeperperson  1.000403  1.000813  1.000608"
      ]
     },
     "execution_count": 31,
     "metadata": {},
     "output_type": "execute_result"
    }
   ],
   "source": [
    "params = lreg1.params\n",
    "conf = lreg1.conf_int()\n",
    "conf['OR'] = params\n",
    "conf.columns = ['Lower CI', 'Upper CI', 'OR']\n",
    "np.exp(conf)"
   ]
  },
  {
   "cell_type": "markdown",
   "metadata": {},
   "source": [
    "Perform logistic regression with income per person and employment rate"
   ]
  },
  {
   "cell_type": "code",
   "execution_count": 32,
   "metadata": {
    "collapsed": false
   },
   "outputs": [
    {
     "name": "stdout",
     "output_type": "stream",
     "text": [
      "Optimization terminated successfully.\n",
      "         Current function value: 0.345366\n",
      "         Iterations 9\n",
      "                           Logit Regression Results                           \n",
      "==============================================================================\n",
      "Dep. Variable:        internetuserate   No. Observations:                  166\n",
      "Model:                          Logit   Df Residuals:                      163\n",
      "Method:                           MLE   Df Model:                            2\n",
      "Date:                Thu, 12 Jan 2017   Pseudo R-squ.:                  0.5009\n",
      "Time:                        16:48:09   Log-Likelihood:                -57.331\n",
      "converged:                       True   LL-Null:                       -114.87\n",
      "                                        LLR p-value:                 1.026e-25\n",
      "===================================================================================\n",
      "                      coef    std err          z      P>|z|      [95.0% Conf. Int.]\n",
      "-----------------------------------------------------------------------------------\n",
      "Intercept           1.1446      1.426      0.803      0.422        -1.650     3.939\n",
      "incomeperperson     0.0005      0.000      4.985      0.000         0.000     0.001\n",
      "employrate         -0.0579      0.025     -2.340      0.019        -0.106    -0.009\n",
      "===================================================================================\n",
      "\n",
      "Possibly complete quasi-separation: A fraction 0.14 of observations can be\n",
      "perfectly predicted. This might indicate that there is complete\n",
      "quasi-separation. In this case some parameters will not be identified.\n"
     ]
    }
   ],
   "source": [
    "lreg2 = smf.logit(formula = 'internetuserate ~ incomeperperson + employrate', data = binarydata).fit()\n",
    "print (lreg2.summary())"
   ]
  },
  {
   "cell_type": "markdown",
   "metadata": {},
   "source": [
    "My first examination was of internet use rate versus income per person. I found that the relationship is highly significant, with a p-value of 0.000. The odds ratio came out to be 1.000608, which indicates that as income per person goes up, so will the internet use rate. However, the odds ratio is very close to 1, so the correlation is not particularly strong. The 95% confidence interval for this odds ratio is 1.000403 to 1.000813, which is a fairly small interval, telling us that our odds ratio is most likely accurate to several decimal places.\n",
    "\n",
    "Next, I brought employment rate into the analysis as a second explanatory variable. Because it did not change the statistics of income per person much, I can be confident that it is not a confounding variable. With this additional variable, the p-value of income per person stayed the same, at 0.000, and the p-value of employment rate is 0.019. Because this is below our limit of 0.05, both variables are significant. The odds ratio of income per person is now 1.0005, and the odds ratio for employment rate is 0.944. Increasing income per person leads to increasing internet usage, but *decreasing* employment rates will also increase internet use. Too much Facebook, perhaps? The confidence intervals for these odds ratios are similarly as small as the single-variate results.\n",
    "\n",
    "These results match my previous analysis, that increasing income per person will lead to an increase in the internet use rate, but conversely increasing the employment rate leads to a *decrease* in the internet use rate."
   ]
  }
 ],
 "metadata": {
  "anaconda-cloud": {},
  "kernelspec": {
   "display_name": "Python [default]",
   "language": "python",
   "name": "python3"
  },
  "language_info": {
   "codemirror_mode": {
    "name": "ipython",
    "version": 3
   },
   "file_extension": ".py",
   "mimetype": "text/x-python",
   "name": "python",
   "nbconvert_exporter": "python",
   "pygments_lexer": "ipython3",
   "version": "3.5.2"
  }
 },
 "nbformat": 4,
 "nbformat_minor": 1
}
